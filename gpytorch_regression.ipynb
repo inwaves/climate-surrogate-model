{
 "cells": [
  {
   "cell_type": "code",
   "execution_count": 1,
   "id": "b5f5604a-5c01-4847-9765-f6477d9819a4",
   "metadata": {},
   "outputs": [],
   "source": [
    "import math\n",
    "import torch\n",
    "import gpytorch\n",
    "import matplotlib.pyplot as plt\n",
    "\n",
    "%matplotlib inline\n",
    "%load_ext autoreload\n",
    "%autoreload 2"
   ]
  },
  {
   "cell_type": "markdown",
   "id": "2d846c36-fc32-4035-a0dc-5b3d98540ffb",
   "metadata": {},
   "source": [
    "### Generating the data"
   ]
  },
  {
   "cell_type": "code",
   "execution_count": 2,
   "id": "497f0792-7cc1-49a0-885e-77acf93a5dfe",
   "metadata": {},
   "outputs": [],
   "source": [
    "train_x = torch.linspace(0, 1, 100)\n",
    "train_y = torch.sin(train_x * (2 * math.pi)) + torch.randn(train_x.size()) * math.sqrt(0.04)"
   ]
  },
  {
   "cell_type": "markdown",
   "id": "4cab8fc1-ac88-4cc4-a6b5-622ac461806d",
   "metadata": {},
   "source": [
    "### Defining the model"
   ]
  },
  {
   "cell_type": "code",
   "execution_count": 3,
   "id": "a474ed07-c60c-467b-a9d5-b38fdab2ddbb",
   "metadata": {},
   "outputs": [],
   "source": [
    "# Exact inference GP.\n",
    "class ExactGPModel(gpytorch.models.ExactGP):\n",
    "    def __init__(self, train_x, train_y, likelihood):\n",
    "        super(ExactGPModel, self).__init__(train_x, train_y, likelihood)\n",
    "        \n",
    "        # Can tweak these.\n",
    "        self.mean_module = gpytorch.means.ConstantMean() \n",
    "        self.covar_module = gpytorch.kernels.ScaleKernel(gpytorch.kernels.RBFKernel())\n",
    "        \n",
    "    def forward(self, x):\n",
    "        mean_x = self.mean_module(x)\n",
    "        covar_x = self.covar_module(x)\n",
    "        return gpytorch.distributions.MultivariateNormal(mean_x, covar_x)"
   ]
  },
  {
   "cell_type": "code",
   "execution_count": 4,
   "id": "5a8a9057-1804-4bef-8c17-80031e8a1091",
   "metadata": {},
   "outputs": [],
   "source": [
    "# Initialise likelihood and model.\n",
    "likelihood = gpytorch.likelihoods.GaussianLikelihood()\n",
    "model = ExactGPModel(train_x, train_y, likelihood)"
   ]
  },
  {
   "cell_type": "markdown",
   "id": "5ea15e28-f7b4-49ca-ae4b-ae8c9d4a791c",
   "metadata": {
    "tags": []
   },
   "source": [
    "### Training\n",
    "\n",
    "Downside: this uses [empirical Bayes method](https://en.wikipedia.org/wiki/Empirical_Bayes_method), not full Bayesian optimisation, to fit the GP to the data."
   ]
  },
  {
   "cell_type": "code",
   "execution_count": 5,
   "id": "e600e40d-7528-454a-b374-a9bff03aaeb2",
   "metadata": {},
   "outputs": [],
   "source": [
    "training_iter = 50"
   ]
  },
  {
   "cell_type": "code",
   "execution_count": 7,
   "id": "fcc4b438-895e-4a7e-a4f4-f2f92a193369",
   "metadata": {},
   "outputs": [
    {
     "name": "stdout",
     "output_type": "stream",
     "text": [
      "Iter 1/50 - Loss: 0.946   length scale: 0.693    noise: 0.693\n",
      "Iter 2/50 - Loss: 0.915   length scale: 0.644    noise: 0.644\n",
      "Iter 3/50 - Loss: 0.880   length scale: 0.598    noise: 0.598\n",
      "Iter 4/50 - Loss: 0.842   length scale: 0.555    noise: 0.554\n",
      "Iter 5/50 - Loss: 0.798   length scale: 0.514    noise: 0.513\n",
      "Iter 6/50 - Loss: 0.748   length scale: 0.475    noise: 0.474\n",
      "Iter 7/50 - Loss: 0.695   length scale: 0.439    noise: 0.437\n",
      "Iter 8/50 - Loss: 0.642   length scale: 0.404    noise: 0.402\n",
      "Iter 9/50 - Loss: 0.591   length scale: 0.372    noise: 0.369\n",
      "Iter 10/50 - Loss: 0.544   length scale: 0.342    noise: 0.339\n",
      "Iter 11/50 - Loss: 0.502   length scale: 0.315    noise: 0.310\n",
      "Iter 12/50 - Loss: 0.464   length scale: 0.292    noise: 0.284\n",
      "Iter 13/50 - Loss: 0.428   length scale: 0.272    noise: 0.259\n",
      "Iter 14/50 - Loss: 0.392   length scale: 0.256    noise: 0.236\n",
      "Iter 15/50 - Loss: 0.358   length scale: 0.242    noise: 0.215\n",
      "Iter 16/50 - Loss: 0.323   length scale: 0.232    noise: 0.196\n",
      "Iter 17/50 - Loss: 0.289   length scale: 0.223    noise: 0.178\n",
      "Iter 18/50 - Loss: 0.256   length scale: 0.217    noise: 0.162\n",
      "Iter 19/50 - Loss: 0.222   length scale: 0.212    noise: 0.147\n",
      "Iter 20/50 - Loss: 0.190   length scale: 0.210    noise: 0.134\n",
      "Iter 21/50 - Loss: 0.157   length scale: 0.209    noise: 0.121\n",
      "Iter 22/50 - Loss: 0.126   length scale: 0.209    noise: 0.110\n",
      "Iter 23/50 - Loss: 0.095   length scale: 0.211    noise: 0.100\n",
      "Iter 24/50 - Loss: 0.066   length scale: 0.214    noise: 0.091\n",
      "Iter 25/50 - Loss: 0.038   length scale: 0.218    noise: 0.083\n",
      "Iter 26/50 - Loss: 0.012   length scale: 0.224    noise: 0.075\n",
      "Iter 27/50 - Loss: -0.012   length scale: 0.230    noise: 0.069\n",
      "Iter 28/50 - Loss: -0.033   length scale: 0.237    noise: 0.063\n",
      "Iter 29/50 - Loss: -0.052   length scale: 0.244    noise: 0.057\n",
      "Iter 30/50 - Loss: -0.067   length scale: 0.252    noise: 0.053\n",
      "Iter 31/50 - Loss: -0.080   length scale: 0.260    noise: 0.048\n",
      "Iter 32/50 - Loss: -0.089   length scale: 0.267    noise: 0.045\n",
      "Iter 33/50 - Loss: -0.095   length scale: 0.275    noise: 0.041\n",
      "Iter 34/50 - Loss: -0.098   length scale: 0.281    noise: 0.038\n",
      "Iter 35/50 - Loss: -0.099   length scale: 0.287    noise: 0.036\n",
      "Iter 36/50 - Loss: -0.097   length scale: 0.291    noise: 0.034\n",
      "Iter 37/50 - Loss: -0.095   length scale: 0.293    noise: 0.032\n",
      "Iter 38/50 - Loss: -0.091   length scale: 0.295    noise: 0.031\n",
      "Iter 39/50 - Loss: -0.087   length scale: 0.294    noise: 0.029\n",
      "Iter 40/50 - Loss: -0.084   length scale: 0.293    noise: 0.028\n",
      "Iter 41/50 - Loss: -0.081   length scale: 0.290    noise: 0.028\n",
      "Iter 42/50 - Loss: -0.080   length scale: 0.286    noise: 0.027\n",
      "Iter 43/50 - Loss: -0.079   length scale: 0.281    noise: 0.027\n",
      "Iter 44/50 - Loss: -0.079   length scale: 0.276    noise: 0.027\n",
      "Iter 45/50 - Loss: -0.079   length scale: 0.271    noise: 0.027\n",
      "Iter 46/50 - Loss: -0.081   length scale: 0.266    noise: 0.027\n",
      "Iter 47/50 - Loss: -0.083   length scale: 0.261    noise: 0.027\n",
      "Iter 48/50 - Loss: -0.085   length scale: 0.257    noise: 0.028\n",
      "Iter 49/50 - Loss: -0.087   length scale: 0.254    noise: 0.028\n",
      "Iter 50/50 - Loss: -0.089   length scale: 0.252    noise: 0.029\n"
     ]
    }
   ],
   "source": [
    "# Set to train mode.\n",
    "model.train()\n",
    "likelihood.train()\n",
    "\n",
    "# Optimiser.\n",
    "optimiser = torch.optim.Adam(model.parameters(), lr=0.1)\n",
    "\n",
    "# \"Loss\": the marginal log-likelihood.\n",
    "mll = gpytorch.mlls.ExactMarginalLogLikelihood(likelihood, model)\n",
    "\n",
    "for i in range(training_iter):\n",
    "    optimiser.zero_grad()\n",
    "    \n",
    "    output = model(train_x)\n",
    "    loss = -mll(output, train_y)\n",
    "    loss.backward()\n",
    "    \n",
    "    print(f\"Iter {i+1}/{training_iter} - Loss: {loss.item():.3f}   length scale: {model.covar_module.base_kernel.lengthscale.item():.3f}    noise: {model.likelihood.noise.item():.3f}\")\n",
    "    \n",
    "    optimiser.step()"
   ]
  },
  {
   "cell_type": "markdown",
   "id": "64ee7442-8ea8-4346-b472-b0a1e33246e2",
   "metadata": {
    "tags": []
   },
   "source": [
    "### Making predictions"
   ]
  },
  {
   "cell_type": "code",
   "execution_count": 8,
   "id": "4489ae52-df16-4c66-b90c-96dec2ac11c0",
   "metadata": {},
   "outputs": [],
   "source": [
    "model.eval()\n",
    "likelihood.eval()\n",
    "\n",
    "with torch.no_grad(), gpytorch.settings.fast_pred_var():\n",
    "    test_x = torch.linspace(0, 1, 51)\n",
    "    observed_pred = likelihood(model(test_x))"
   ]
  },
  {
   "cell_type": "markdown",
   "id": "c30dda27-84ac-4a4b-bbe4-6897296852b2",
   "metadata": {},
   "source": [
    "### Plotting the model fit"
   ]
  },
  {
   "cell_type": "code",
   "execution_count": 9,
   "id": "79799da7-dba6-400d-8fea-129dfdd89aa3",
   "metadata": {},
   "outputs": [
    {
     "data": {
      "image/png": "[encoded data removed]",
      "text/plain": [
       "<Figure size 720x432 with 1 Axes>"
      ]
     },
     "metadata": {
      "needs_background": "light"
     },
     "output_type": "display_data"
    }
   ],
   "source": [
    "with torch.no_grad():\n",
    "    f, ax = plt.subplots(1, 1, figsize=(10, 6))\n",
    "    lower, upper = observed_pred.confidence_region()\n",
    "    \n",
    "    ax.plot(train_x.numpy(), train_y.numpy(), \"k*\")\n",
    "    ax.plot(test_x.numpy(), observed_pred.mean.numpy(), \"b\") \n",
    "    \n",
    "    ax.fill_between(test_x.numpy(), lower.numpy(), upper.numpy(), alpha=0.7)\n",
    "    ax.set_ylim([-3, 3])\n",
    "    ax.legend([\"Observed data\", \"Mean\", \"Confidence\"])"
   ]
  },
  {
   "cell_type": "code",
   "execution_count": null,
   "id": "a1015ef3-edcc-4a06-a722-e7174c372366",
   "metadata": {},
   "outputs": [],
   "source": []
  }
 ],
 "metadata": {
  "kernelspec": {
   "display_name": "Python 3 (ipykernel)",
   "language": "python",
   "name": "python3"
  },
  "language_info": {
   "codemirror_mode": {
    "name": "ipython",
    "version": 3
   },
   "file_extension": ".py",
   "mimetype": "text/x-python",
   "name": "python",
   "nbconvert_exporter": "python",
   "pygments_lexer": "ipython3",
   "version": "3.9.7"
  }
 },
 "nbformat": 4,
 "nbformat_minor": 5
}
