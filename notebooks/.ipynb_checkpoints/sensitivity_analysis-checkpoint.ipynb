{
 "cells": [
  {
   "cell_type": "markdown",
   "id": "f4b2eca5",
   "metadata": {},
   "source": [
    "# Sensitivity Analysis\n",
    "\n",
    "Sensitivity analysis in a nutshell is determining the influence of input variables on a function. Around a single point, this can be computed as the partial derivatives of the function. This form is referred to as local sensitivity analysis. However to determine the influence of input variables across a domain on a function, you perform global sensitivity analysis also known as Hoeffding-Sobol or ANOVA decomposition.\n",
    "\n",
    "In this notebook, I am using the in-built function for performing sensitivity analysis on emukit. Since, we don't know the form of the function that defines the relationship between our input variables (longitude, latitude, and time) and the output (precipitation), I am using a version of the function that allows us to determine the sensitivity of the variables from the output using an emulator.\n",
    "\n",
    "Running this function generates two values - the sobol indices and total effects of each variable. The sobol indices represent the influence of each variable while marginalizing the rest while the total effects represent the influence of a variable alone and across all its interactions with other variables."
   ]
  },
  {
   "cell_type": "markdown",
   "id": "a7dc0896",
   "metadata": {},
   "source": [
    "# Importing Dependencies and Data"
   ]
  },
  {
   "cell_type": "code",
   "execution_count": 2,
   "id": "349a4119",
   "metadata": {},
   "outputs": [],
   "source": [
    "import intake\n",
    "import proplot as plot\n",
    "import matplotlib.pyplot as plt\n",
    "import numpy as np\n",
    "\n",
    "import pandas as pd\n",
    "import cftime"
   ]
  },
  {
   "cell_type": "code",
   "execution_count": 3,
   "id": "e2a2cb6c",
   "metadata": {},
   "outputs": [
    {
     "name": "stdout",
     "output_type": "stream",
     "text": [
      "\n",
      "--> The keys in the returned dictionary of datasets are constructed as follows:\n",
      "\t'activity_id.institution_id.source_id.experiment_id.table_id.grid_label'\n"
     ]
    },
    {
     "data": {
      "text/html": [
       "\n",
       "    <div>\n",
       "        <style>\n",
       "            /* Turns off some styling */\n",
       "            progress {\n",
       "                /* gets rid of default border in Firefox and Opera. */\n",
       "                border: none;\n",
       "                /* Needs to be in here for Safari polyfill so background images work as expected. */\n",
       "                background-size: auto;\n",
       "            }\n",
       "            .progress-bar-interrupted, .progress-bar-interrupted::-webkit-progress-bar {\n",
       "                background: #F44336;\n",
       "            }\n",
       "        </style>\n",
       "      <progress value='2' class='' max='2' style='width:300px; height:20px; vertical-align: middle;'></progress>\n",
       "      100.00% [2/2 00:00<00:00]\n",
       "    </div>\n",
       "    "
      ],
      "text/plain": [
       "<IPython.core.display.HTML object>"
      ]
     },
     "metadata": {},
     "output_type": "display_data"
    }
   ],
   "source": [
    "url = \"https://raw.githubusercontent.com/NCAR/intake-esm-datastore/master/catalogs/pangeo-cmip6.json\"\n",
    "dataframe = intake.open_esm_datastore(url)\n",
    "\n",
    "models = dataframe.search(experiment_id=\"historical\",\n",
    "                         variable_id=\"pr\",\n",
    "                         institution_id=\"MOHC\",\n",
    "                         member_id=\"r1i1p1f2\")\n",
    "\n",
    "datasets = models.to_dataset_dict()"
   ]
  },
  {
   "cell_type": "code",
   "execution_count": 4,
   "id": "14905399",
   "metadata": {},
   "outputs": [],
   "source": [
    "ds = datasets[\"CMIP.MOHC.UKESM1-0-LL.historical.Amon.gn\"]\n",
    "df = ds.to_dataframe()\n",
    "\n",
    "training_set = df.loc[df.index.get_level_values(\"time\") <= cftime.Datetime360Day(1965, 6, 16, 0, 0, 0, 0, has_year_zero=True)]\n",
    "test_set = df.loc[df.index.get_level_values(\"time\") >= cftime.Datetime360Day(1982, 1, 16, 0, 0, 0, 0, has_year_zero=True)]\n",
    "\n",
    "validation_set = df.loc[(df.index.get_level_values(\"time\") > cftime.Datetime360Day(1965, 6, 16, 0, 0, 0, 0, has_year_zero=True)) & (df.index.get_level_values(\"time\") < cftime.Datetime360Day(1982, 1, 16, 0, 0, 0, 0, has_year_zero=True))]"
   ]
  },
  {
   "cell_type": "markdown",
   "id": "c1fc6c02",
   "metadata": {},
   "source": [
    "Using the training set, extract the data from the Tropics. Based on my readings, this area has higher variability in precipitation and therefore should be a somewhat accurate smaller representation of our dataset."
   ]
  },
  {
   "cell_type": "code",
   "execution_count": 5,
   "id": "c827b4bc",
   "metadata": {},
   "outputs": [],
   "source": [
    "keys = training_set['pr'].keys()\n",
    "band_a = []\n",
    "for element in keys:\n",
    "    if  element[0] >= -23.125 and element[0] <= 23.125  and element[1] == 0:\n",
    "        band_a.append(element)\n",
    "        \n",
    "band_b = []\n",
    "for element in keys:\n",
    "    if  element[0] >= -23.125 and element[0] <= 23.125  and element[1] == 1:\n",
    "        band_b.append(element)"
   ]
  },
  {
   "cell_type": "code",
   "execution_count": 6,
   "id": "91198950",
   "metadata": {},
   "outputs": [],
   "source": [
    "training_band_a = pd.DataFrame.from_records(\n",
    "    band_a, columns=['lat', 'band', 'lon', 'member_id', 'time'])\n",
    "training_band_a = training_band_a.drop(columns=['band','member_id'])\n",
    "training_band_a[\"time\"] = [cftime.date2num(ind, \"days since 1850-01-01\") for ind in training_band_a[\"time\"]]"
   ]
  },
  {
   "cell_type": "code",
   "execution_count": 7,
   "id": "d2ff3a73",
   "metadata": {},
   "outputs": [],
   "source": [
    "x_train_a = training_band_a.to_numpy()\n",
    "y_train_a = (np.array(training_set['pr'][band_a])*10**5)[:,np.newaxis]"
   ]
  },
  {
   "cell_type": "code",
   "execution_count": 8,
   "id": "d3175c51",
   "metadata": {},
   "outputs": [
    {
     "data": {
      "text/plain": [
       "array([-2.3125e+01,  9.3750e-01,  9.0150e+03])"
      ]
     },
     "execution_count": 8,
     "metadata": {},
     "output_type": "execute_result"
    }
   ],
   "source": [
    "x_train_a[300]"
   ]
  },
  {
   "cell_type": "markdown",
   "id": "c54a8021",
   "metadata": {},
   "source": [
    "# Global Sensitivity Analysis using Output\n",
    "\n",
    "Importing the Emukit modules for running the analysis, defining the domain of the input variables and running the analysis."
   ]
  },
  {
   "cell_type": "code",
   "execution_count": 9,
   "id": "6d27b3ca",
   "metadata": {},
   "outputs": [],
   "source": [
    "from GPy.models import GPRegression\n",
    "from emukit.model_wrappers import GPyModelWrapper\n",
    "from emukit.sensitivity.monte_carlo import MonteCarloSensitivity\n",
    "from emukit.core import DiscreteParameter, ParameterSpace"
   ]
  },
  {
   "cell_type": "code",
   "execution_count": 10,
   "id": "1bcb4a7c",
   "metadata": {},
   "outputs": [],
   "source": [
    "time_domain = np.linspace(0, 1_000_000, 10)\n",
    "lat_domain = np.linspace(-23.125, 23.125, 38)\n",
    "lon_domain = np.linspace(0.9375, 359.0625, 192)\n",
    "\n",
    "space = ParameterSpace([DiscreteParameter('lon', lon_domain), \n",
    "                        DiscreteParameter('lat', lat_domain),\n",
    "                        DiscreteParameter('time', time_domain)])"
   ]
  },
  {
   "cell_type": "code",
   "execution_count": 13,
   "id": "8e576c9e",
   "metadata": {},
   "outputs": [],
   "source": [
    "model_gpy = GPRegression(x_train_a[:10000], y_train_a[:10000])\n",
    "model_emukit = GPyModelWrapper(model_gpy)\n",
    "model_emukit.optimize()"
   ]
  },
  {
   "cell_type": "code",
   "execution_count": 14,
   "id": "096eb62e",
   "metadata": {},
   "outputs": [],
   "source": [
    "num_mc = 10000\n",
    "senstivity_gpbased = MonteCarloSensitivity(model = model_emukit, input_domain = space)\n",
    "main_effects_gp, total_effects_gp, _ = senstivity_gpbased.compute_effects(num_monte_carlo_points = num_mc)"
   ]
  },
  {
   "cell_type": "code",
   "execution_count": 27,
   "id": "cca8ee3a",
   "metadata": {},
   "outputs": [
    {
     "data": {
      "text/plain": [
       "0.3012353309365509"
      ]
     },
     "execution_count": 27,
     "metadata": {},
     "output_type": "execute_result"
    }
   ],
   "source": [
    "total_effects_gp['lat'][0]"
   ]
  },
  {
   "cell_type": "code",
   "execution_count": 17,
   "id": "462554bf",
   "metadata": {},
   "outputs": [
    {
     "data": {
      "text/plain": [
       "{'GP Monte Carlo': {'lon': array([-0.00566617]),\n",
       "  'lat': array([-0.00709202]),\n",
       "  'time': array([0.10918397])}}"
      ]
     },
     "execution_count": 17,
     "metadata": {},
     "output_type": "execute_result"
    }
   ],
   "source": [
    "d = {'GP Monte Carlo': main_effects_gp}\n",
    "d"
   ]
  },
  {
   "cell_type": "code",
   "execution_count": 32,
   "id": "c822a231",
   "metadata": {},
   "outputs": [
    {
     "data": {
      "image/png": "[encoded data removed]",
      "text/plain": [
       "<Figure size 400x400 with 1 Axes>"
      ]
     },
     "metadata": {
      "image/png": {
       "height": 400,
       "width": 400
      }
     },
     "output_type": "display_data"
    }
   ],
   "source": [
    "main_effects = [main_effects_gp['lon'][0], main_effects_gp['lat'][0], main_effects_gp['time'][0]]\n",
    "total_effects = [total_effects_gp['lon'][0], total_effects_gp['lat'][0], total_effects_gp['time'][0]]\n",
    "index = ['lon', 'lat', 'time']\n",
    "df = pd.DataFrame({'Main Effects': main_effects,\n",
    "                    'Total Effects': total_effects}, index=index)\n",
    "ax = df.plot.bar(rot=0)"
   ]
  },
  {
   "cell_type": "code",
   "execution_count": null,
   "id": "fe2a3c99",
   "metadata": {},
   "outputs": [],
   "source": []
  },
  {
   "cell_type": "code",
   "execution_count": null,
   "id": "4f0c9cfb",
   "metadata": {},
   "outputs": [],
   "source": []
  }
 ],
 "metadata": {
  "kernelspec": {
   "display_name": "Python 3",
   "language": "python",
   "name": "python3"
  },
  "language_info": {
   "codemirror_mode": {
    "name": "ipython",
    "version": 3
   },
   "file_extension": ".py",
   "mimetype": "text/x-python",
   "name": "python",
   "nbconvert_exporter": "python",
   "pygments_lexer": "ipython3",
   "version": "3.8.8"
  }
 },
 "nbformat": 4,
 "nbformat_minor": 5
}
